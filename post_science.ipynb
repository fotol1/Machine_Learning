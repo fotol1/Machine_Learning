{
 "cells": [
  {
   "cell_type": "markdown",
   "metadata": {},
   "source": [
    "# Тематическая модель [Постнауки](http://postnauka.ru)\n",
    "## Peer Review (optional)"
   ]
  },
  {
   "cell_type": "markdown",
   "metadata": {},
   "source": [
    "В этом задании мы применим аппарат тематического моделирования к коллекции текстовых записей видеолекций, скачанных с сайта Постнаука. Мы будем визуализировать модель и создавать прототип тематического навигатора по коллекции. В коллекции 1728 документов, размер словаря - 38467 слов. Слова лемматизированы, то есть приведены к начальной форме, с помощью программы [mystem](https://tech.yandex.ru/mystem/), коллекция сохранена в [формате vowpal wabbit](http://docs.bigartm.org/en/latest/formats.html). В каждой строке до первой черты записана информация о документе (ссылка на страницу с лекцией), после первой черты следует описание документа. Используются две модальности - текстовая (\"text\") и модальность авторов (\"author\"); у каждого документа один автор."
   ]
  },
  {
   "cell_type": "markdown",
   "metadata": {},
   "source": [
    "Для выполнения задания понадобится библиотека [BigARTM](http://docs.bigartm.org). В демонстрации показан пример использования библиотеки версии 0.7.4, на сайте предлагается скачивать версию 0.8.0. В новой версии изменены принципы работы со словарями: они вынесены в отдельный класс (пример в [Release Notes](http://docs.bigartm.org/en/stable/release_notes/python.html)). Строить модель и извлекать ее параметры нужно так же, как показано в демонстрации. Вы можете использовать [предыдущий релиз](http://bigartm.readthedocs.io/en/v0.7.6/download.html) или [новый релиз](http://docs.bigartm.org/en/latest/download.html) на ваше усмотрение.\n",
    "\n",
    "Спецификации всех функций вы можете смотреть на странице [Python API](http://bigartm.readthedocs.io/en/stable/python_interface.html)."
   ]
  },
  {
   "cell_type": "code",
   "execution_count": 1,
   "metadata": {},
   "outputs": [],
   "source": [
    "import artm"
   ]
  },
  {
   "cell_type": "code",
   "execution_count": 2,
   "metadata": {},
   "outputs": [
    {
     "name": "stderr",
     "output_type": "stream",
     "text": [
      "/home/fotol/4year/lib/python3.5/site-packages/scipy/_lib/_numpy_compat.py:10: DeprecationWarning: Importing from numpy.testing.nosetester is deprecated, import from numpy.testing instead.\n",
      "  from numpy.testing.nosetester import import_nose\n",
      "/home/fotol/4year/lib/python3.5/site-packages/scipy/stats/morestats.py:16: DeprecationWarning: Importing from numpy.testing.decorators is deprecated, import from numpy.testing instead.\n",
      "  from numpy.testing.decorators import setastest\n"
     ]
    }
   ],
   "source": [
    "from matplotlib import pyplot as plt\n",
    "import seaborn\n",
    "%matplotlib inline\n",
    "seaborn.set_style(\"whitegrid\", {'axes.grid' : False})"
   ]
  },
  {
   "cell_type": "code",
   "execution_count": 3,
   "metadata": {},
   "outputs": [],
   "source": [
    "import numpy as np\n",
    "import pandas as pd"
   ]
  },
  {
   "cell_type": "markdown",
   "metadata": {},
   "source": [
    "##### Считывание данных"
   ]
  },
  {
   "cell_type": "markdown",
   "metadata": {},
   "source": [
    "Создайте объект класса artm.BatchVectorizer, который будет ссылаться на директорию с пакетами данных (батчами). Чтобы библиотека могла преобразовать текстовый файл в батчи, создайте пустую директорию и укажите ее название в параметре target_folder. Размер батча для небольших коллекций (как наша) не важен, вы можете указать любой."
   ]
  },
  {
   "cell_type": "code",
   "execution_count": 120,
   "metadata": {},
   "outputs": [],
   "source": [
    "# Ваш код\n",
    "batch_vect = artm.BatchVectorizer(data_path='data.txt',data_format='vowpal_wabbit', target_folder='batches',batch_size=100)"
   ]
  },
  {
   "cell_type": "markdown",
   "metadata": {},
   "source": [
    "##### Инициализация модели"
   ]
  },
  {
   "cell_type": "markdown",
   "metadata": {},
   "source": [
    "Создайте объект класса artm.Model с 30 темами, именами тем, указанными ниже и единичными весами обеих модальностей. Количество тем выбрано не очень большим, чтобы вам было удобнее работать с темами. На этой коллекции можно строить и большее число тем, тогда они будут более узко специализированы."
   ]
  },
  {
   "cell_type": "code",
   "execution_count": 169,
   "metadata": {},
   "outputs": [],
   "source": [
    "T = 30   # количество тем\n",
    "topic_names=[\"sbj\"+str(i) for i in range(T-1)]+[\"bcg\"]\n",
    "model = artm.ARTM(num_topics=T,topic_names=topic_names,\n",
    "                 class_ids={\"text\":1,'author':1},seed=-1,cache_theta=True)"
   ]
  },
  {
   "cell_type": "markdown",
   "metadata": {},
   "source": [
    "Мы будем строить 29 предметных тем и одну фоновую. \n",
    "\n",
    "Соберите словарь с помощью метода gather_dictionary и инициализируйте модель, указав random_seed=1. Обязательно укажите свое название словаря, оно понадобится при добавлении регуляризаторов."
   ]
  },
  {
   "cell_type": "code",
   "execution_count": 170,
   "metadata": {},
   "outputs": [],
   "source": [
    "# Ваш код\n",
    "dictionary = artm.Dictionary('dictionary')\n",
    "dictionary.gather(batch_vect.data_path)\n",
    "model.initialize('dictionary')"
   ]
  },
  {
   "cell_type": "markdown",
   "metadata": {},
   "source": [
    "##### Добавление score"
   ]
  },
  {
   "cell_type": "markdown",
   "metadata": {},
   "source": [
    "Создайте два измерителя качества artm.TopTokensScore - по одному для каждой модальности; количество токенов 15. Названия для score придумайте самостоятельно."
   ]
  },
  {
   "cell_type": "code",
   "execution_count": 171,
   "metadata": {},
   "outputs": [],
   "source": [
    "# Ваш код\n",
    "model.scores.add(artm.TopTokensScore(name='top_text',class_id='text'))\n",
    "model.scores.add(artm.TopTokensScore(name='top_author',class_id='author'))"
   ]
  },
  {
   "cell_type": "markdown",
   "metadata": {},
   "source": [
    "##### Построение модели"
   ]
  },
  {
   "cell_type": "markdown",
   "metadata": {},
   "source": [
    "Мы будем строить модель в два этапа: сначала добавим сглаживающий регуляризатор фоновой темы и настроим параметры модели, затем - добавим разреживающий регуляризатор предметрых тем и выполним еще несколько итераций. Так мы сможем получить наиболее чистые от фоновых слов предметные темы. Сглаживающий и разреживающий регуляризаторы задаются одним и тем же классом artm.SmoothSparsePhiRegularizer: если коэффициент tau положительный, то регуляризатор будет сглаживающий, если отрицательный - разреживающий.\n",
    "\n",
    "Если вы хотите подробнее разобраться, как выполняется регуляризация тематической модели в BigARTM, вы можете прочитать [статью](https://s3-eu-west-1.amazonaws.com/artm/voron-potap14artm-rus.pdf), раздел 4."
   ]
  },
  {
   "cell_type": "markdown",
   "metadata": {},
   "source": [
    "Добавьте сглаживающий регуляризатор с коэффициентом tau = 1e5, указав название своего словаря в dictionary, модальность текста в class_ids и тему \"bcg\" в topic_names."
   ]
  },
  {
   "cell_type": "code",
   "execution_count": 172,
   "metadata": {},
   "outputs": [],
   "source": [
    "# Ваш код\n",
    "model.regularizers.add(artm.SmoothSparsePhiRegularizer(name='SparsePhi', tau=1e5, dictionary=dictionary,\n",
    "                                                       class_ids=['text'],topic_names=topic_names[-1]),overwrite=True)"
   ]
  },
  {
   "cell_type": "markdown",
   "metadata": {},
   "source": [
    "Выполните 30 итераций по коллекции (num_collection_passes), количество внутренних итераций установите равным 1. Используйте метод fit_offline модели."
   ]
  },
  {
   "cell_type": "code",
   "execution_count": 173,
   "metadata": {},
   "outputs": [],
   "source": [
    "# Ваш код\n",
    "model.fit_offline(batch_vectorizer=batch_vect, num_collection_passes=30)"
   ]
  },
  {
   "cell_type": "markdown",
   "metadata": {},
   "source": [
    "Добавьте разреживающий регуляризатор с коэффициентом tau=-1e5, указав название своего словаря, модальность текста в class_ids и все темы \"sbjX\" в topic_names."
   ]
  },
  {
   "cell_type": "code",
   "execution_count": 174,
   "metadata": {},
   "outputs": [],
   "source": [
    "new_list = topic_names[:-1]\n",
    "model.regularizers.add(artm.SmoothSparsePhiRegularizer(name='Smooth', tau=-1e5, dictionary=dictionary,\n",
    "                                                       class_ids=['text'],topic_names=new_list),overwrite=True)"
   ]
  },
  {
   "cell_type": "markdown",
   "metadata": {},
   "source": [
    "Выполните еще 15 проходов по коллекции."
   ]
  },
  {
   "cell_type": "code",
   "execution_count": 175,
   "metadata": {},
   "outputs": [],
   "source": [
    "# Ваш код\n",
    "model.fit_offline(batch_vectorizer=batch_vect, num_collection_passes=15)"
   ]
  },
  {
   "cell_type": "markdown",
   "metadata": {},
   "source": [
    "##### Интерпретация тем"
   ]
  },
  {
   "cell_type": "markdown",
   "metadata": {},
   "source": [
    "Используя созданные score, выведите топы слов и топы авторов в темах. Удобнее всего выводить топ слов каждой темы с новой строки, указывая название темы в начале строки, и аналогично с авторами."
   ]
  },
  {
   "cell_type": "code",
   "execution_count": 176,
   "metadata": {},
   "outputs": [
    {
     "name": "stdout",
     "output_type": "stream",
     "text": [
      "sbj0: ['церковь', 'русь', 'средневековый', 'император', 'святой', 'власть', 'сага', 'князь', 'папа', 'византийский']\n",
      "sbj1: ['планета', 'земля', 'атмосфера', 'вода', 'солнце', 'солнечный', 'белый', 'карлик', 'газ', 'вокруг']\n",
      "sbj2: ['система', 'трудность', 'относительность', 'тест', 'задание', 'преподавание', 'отсчет', 'системный', 'научение', 'компетенция']\n",
      "sbj3: ['культура', 'наука', 'рассказывать', 'понятие', 'кандидат', 'исторический', 'каков', 'доктор', 'культурный', 'сознание']\n",
      "sbj4: ['право', 'правовой', 'римский', 'юрист', 'искусство', 'суд', 'юридический', 'должник', 'собственность', 'обязательство']\n",
      "sbj5: ['материал', 'свет', 'оптический', 'полимер', 'применение', 'импульс', 'поверхность', 'электронный', 'использование', 'лазерный']\n",
      "sbj6: ['литература', 'фильм', 'текст', 'литературный', 'кино', 'произведение', 'автор', 'герой', 'жанр', 'кинематограф']\n",
      "sbj7: ['смерть', 'ритуал', 'диктатура', 'государь', 'обряд', 'правитель', 'конвент', 'орден', 'террор', 'монтаньяр']\n",
      "sbj8: ['структура', 'вещество', 'химический', 'соединение', 'химия', 'давление', 'углерод', 'реакция', 'металл', 'органический']\n",
      "sbj9: ['частица', 'энергия', 'квантовый', 'поле', 'физика', 'атом', 'взаимодействие', 'магнитный', 'электрон', 'кварк']\n",
      "sbj10: ['война', 'россия', 'советский', 'русский', 'власть', 'российский', 'германия', 'мировой', 'реформа', 'историк']\n",
      "sbj11: ['ребенок', 'женщина', 'семья', 'мужчина', 'возраст', 'взрослый', 'сон', 'мать', 'родитель', 'старение']\n",
      "sbj12: ['мозг', 'животное', 'нейрон', 'растение', 'эволюция', 'отбор', 'озеро', 'эволюционный', 'песня', 'сердце']\n",
      "sbj13: ['территория', 'христианский', 'империя', 'восток', 'народ', 'древний', 'письменность', 'христианство', 'государство', 'памятник']\n",
      "sbj14: ['звезда', 'галактика', 'масса', 'вселенная', 'черный', 'дыра', 'волна', 'излучение', 'скорость', 'телескоп']\n",
      "sbj15: ['задача', 'информация', 'память', 'решение', 'данные', 'компьютер', 'психология', 'мышление', 'когнитивный', 'внимание']\n",
      "sbj16: ['раса', 'океан', 'африка', 'остров', 'америка', 'южный', 'станислав', 'географический', 'монголоид', 'дробышевский']\n",
      "sbj17: ['политический', 'философия', 'государство', 'философский', 'философ', 'свобода', 'идеология', 'платон', 'мысль', 'враг']\n",
      "sbj18: ['язык', 'слово', 'русский', 'словарь', 'текст', 'предложение', 'лингвист', 'значение', 'категория', 'глагол']\n",
      "sbj19: ['революция', 'французский', 'франция', 'театр', 'король', 'роман', 'костюм', 'нация', 'национальный', 'актер']\n",
      "sbj20: ['город', 'сеть', 'робот', 'городской', 'интернет', 'пользователь', 'компания', 'музей', 'медиа', 'горожанин']\n",
      "sbj21: ['болезнь', 'заболевание', 'пациент', 'лечение', 'медицина', 'врач', 'боль', 'препарат', 'медицинский', 'операция']\n",
      "sbj22: ['социальный', 'знание', 'социология', 'социологический', 'дисциплина', 'познание', 'социолог', 'повседневный', 'виктор', 'машинный']\n",
      "sbj23: ['микроорганизм', 'матрица', 'интеллект', 'эмоция', 'алгоритм', 'вычислительный', 'эмоциональный', 'схема', 'искусственный', 'микроб']\n",
      "sbj24: ['бог', 'миф', 'царь', 'греческий', 'море', 'мифология', 'душа', 'грек', 'андрей', 'египетский']\n",
      "sbj25: ['гласный', 'согласный', 'звук', 'говор', 'компилятор', 'программирование', 'мягкий', 'диалект', 'твердость', 'столыпин']\n",
      "sbj26: ['страна', 'политика', 'экономический', 'экономика', 'сталин', 'кризис', 'праздник', 'крестьянин', 'коллективный', 'принятие']\n",
      "sbj27: ['клетка', 'ген', 'днк', 'белок', 'организм', 'молекула', 'биологический', 'генетический', 'геном', 'бактерия']\n",
      "sbj28: ['температура', 'университет', 'сверхпроводимость', 'сверхпроводник', 'сверхпроводящий', 'частота', 'переход', 'заимствование', 'гумбольдт', 'точность']\n",
      "bcg: ['быть', 'что', 'это', 'который', 'этот', 'как', 'они', 'мочь', 'такой', 'очень']\n"
     ]
    }
   ],
   "source": [
    "for topic_name in model.topic_names:\n",
    "    tokens = model.score_tracker[\"top_text\"].last_tokens\n",
    "    words = []\n",
    "    \n",
    "    for word in tokens[topic_name]:    \n",
    "        words.append(word)\n",
    "    print(topic_name+': '+str(words))\n"
   ]
  },
  {
   "cell_type": "markdown",
   "metadata": {},
   "source": [
    "В последней теме \"bcg\" должны находиться общеупотребительные слова.\n",
    "\n",
    "Важный шаг в работе с тематической моделью, когда речь идет о визуализации или создании тематического навигатора, это именование тем. Понять, о чем каждая тема, можно по списку ее топовых слов. Например, тему\n",
    "    \n",
    "    частица взаимодействие физика кварк симметрия элементарный нейтрино стандартный материя протон бозон заряд масса ускоритель слабый\n",
    "    \n",
    "можно назвать \"Физика элементарных частиц\". \n",
    "\n",
    "Дайте названия 29 предметным темам. Если вы не знаете, как назвать тему, назовите ее первым встретившимся в ней существительным, хотя при таком подходе навигатор будет менее информативным. Из названий тем составьте список из 29 строк и запишите го в переменную sbj_topic_labels. В переменной topic_labels будут храниться названия всех тем, включая фоновую."
   ]
  },
  {
   "cell_type": "code",
   "execution_count": 246,
   "metadata": {},
   "outputs": [],
   "source": [
    "sbj_topic_labels = ['Древняя история Руси','Космос','Педагогика','Наука',\n",
    "                   'Право','Лазерная физика','Кино','Смерть',\n",
    "                    'Химия','Квантовая физика','Советская россия','Семья',\n",
    "                    'Эволюция','История','Черные дыры','Компьютеры',\n",
    "                    'Континенты','Философия','Лингвистика','Франция',\n",
    "                    'Городская среда','Медицина',  'Социология','Биоинформатика',\n",
    "                    'Религия','ПРограммирование лексики', 'Политика при СССР','Молекулярная биология',\n",
    "                    'Сверхпроводимость']   # запишите названия тем в список\n",
    "topic_labels = sbj_topic_labels + [\"Фоновая тема\"]"
   ]
  },
  {
   "cell_type": "markdown",
   "metadata": {},
   "source": [
    "##### Анализ тем"
   ]
  },
  {
   "cell_type": "markdown",
   "metadata": {},
   "source": [
    "Далее мы будем работать с распределениями тем в документах (матрица $\\Theta$) и авторов в темах (одна из двух матриц $\\Phi$, соответствующая модальности авторов). \n",
    "Создайте переменные, содержащие две этих матрицы, с помощью методов get_phi и get_theta модели. Назовите переменные theta и phi_a. Выведите формы обеих матриц, чтобы понять, по каким осям стоят темы."
   ]
  },
  {
   "cell_type": "code",
   "execution_count": 178,
   "metadata": {},
   "outputs": [],
   "source": [
    "model.theta_columns_naming = \"title\" # включает именование столбцов Theta их названиями-ссылками, а не внутренними id \n",
    "# Ваш код\n",
    "theta = model.get_theta()\n",
    "phi = model.get_phi(class_ids=['author'])"
   ]
  },
  {
   "cell_type": "markdown",
   "metadata": {},
   "source": [
    "Визуализируем фрагмент матрицы $\\Theta$ - первые 100 документов (это наиболее простой способ визуально оценить, как темы распределяются в документах). С помощью метода seaborn.heatmap выведите фрагмент theta как изображение. Рекомендация: создайте фигуру pyplot размера (20, 10)."
   ]
  },
  {
   "cell_type": "code",
   "execution_count": 195,
   "metadata": {},
   "outputs": [
    {
     "data": {
      "text/plain": [
       "<matplotlib.axes._subplots.AxesSubplot at 0x7fa20c640b00>"
      ]
     },
     "execution_count": 195,
     "metadata": {},
     "output_type": "execute_result"
    },
    {
     "data": {
      "image/png": "[encoded data removed]",
      "text/plain": [
       "<Figure size 1440x720 with 2 Axes>"
      ]
     },
     "metadata": {
      "needs_background": "light"
     },
     "output_type": "display_data"
    }
   ],
   "source": [
    "# Ваш код\n",
    "fig= plt.figure(figsize=(20,10))\n",
    "ax = fig.gca()\n",
    "seaborn.heatmap(theta.iloc[:,:100],ax=ax)"
   ]
  },
  {
   "cell_type": "markdown",
   "metadata": {},
   "source": [
    "Вы должны увидеть, что фоновая тема имеет большую вероятность в почти каждом документе, и это логично. Кроме того, есть еще одна тема, которая чаще других встречается в документах. Судя по всему, это тема содержит много слов по науку в целом, а каждый документ (видео) в нашей коллекции связан с наукой. Можно (необязательно) дать этой теме название \"Наука\".\n",
    "\n",
    "Помимо этих двух тем, фоновой и общенаучной, каждый документ характеризуется малым числом других тем."
   ]
  },
  {
   "cell_type": "markdown",
   "metadata": {},
   "source": [
    "Оценим $p(t)$ - долю каждой темы во всей коллекции. По формуле полной вероятности вычислять эти величины нужно как\n",
    "$p(t) = \\sum_d p(t|d) p(d)$. Согласно вероятностной модели, $p(d)$ пропорционально длине документа d. Поступим проще: будем полагать, что все документы равновероятны. Тогда оценить $p(t)$ можно, просуммировав $p(t|d)$ по всем документам, а затем разделив полученный вектор на его сумму. \n",
    "\n",
    "Создайте переменную-датафрейм с T строками, индексированными названиями тем, и 1 столбцом, содержащим оценки $p(t)$. Выведите датафрейм на печать."
   ]
  },
  {
   "cell_type": "code",
   "execution_count": 258,
   "metadata": {},
   "outputs": [
    {
     "data": {
      "text/html": [
       "<div>\n",
       "<style scoped>\n",
       "    .dataframe tbody tr th:only-of-type {\n",
       "        vertical-align: middle;\n",
       "    }\n",
       "\n",
       "    .dataframe tbody tr th {\n",
       "        vertical-align: top;\n",
       "    }\n",
       "\n",
       "    .dataframe thead th {\n",
       "        text-align: right;\n",
       "    }\n",
       "</style>\n",
       "<table border=\"1\" class=\"dataframe\">\n",
       "  <thead>\n",
       "    <tr style=\"text-align: right;\">\n",
       "      <th></th>\n",
       "      <th>proba</th>\n",
       "    </tr>\n",
       "  </thead>\n",
       "  <tbody>\n",
       "    <tr>\n",
       "      <th>Древняя история Руси</th>\n",
       "      <td>0.010347</td>\n",
       "    </tr>\n",
       "    <tr>\n",
       "      <th>Космос</th>\n",
       "      <td>0.010862</td>\n",
       "    </tr>\n",
       "    <tr>\n",
       "      <th>Педагогика</th>\n",
       "      <td>0.005904</td>\n",
       "    </tr>\n",
       "    <tr>\n",
       "      <th>Наука</th>\n",
       "      <td>0.041272</td>\n",
       "    </tr>\n",
       "    <tr>\n",
       "      <th>Право</th>\n",
       "      <td>0.007677</td>\n",
       "    </tr>\n",
       "    <tr>\n",
       "      <th>Лазерная физика</th>\n",
       "      <td>0.009932</td>\n",
       "    </tr>\n",
       "    <tr>\n",
       "      <th>Кино</th>\n",
       "      <td>0.007144</td>\n",
       "    </tr>\n",
       "    <tr>\n",
       "      <th>Смерть</th>\n",
       "      <td>0.003844</td>\n",
       "    </tr>\n",
       "    <tr>\n",
       "      <th>Химия</th>\n",
       "      <td>0.010774</td>\n",
       "    </tr>\n",
       "    <tr>\n",
       "      <th>Квантовая физика</th>\n",
       "      <td>0.020953</td>\n",
       "    </tr>\n",
       "    <tr>\n",
       "      <th>Советская россия</th>\n",
       "      <td>0.014161</td>\n",
       "    </tr>\n",
       "    <tr>\n",
       "      <th>Семья</th>\n",
       "      <td>0.007338</td>\n",
       "    </tr>\n",
       "    <tr>\n",
       "      <th>Эволюция</th>\n",
       "      <td>0.010169</td>\n",
       "    </tr>\n",
       "    <tr>\n",
       "      <th>История</th>\n",
       "      <td>0.013720</td>\n",
       "    </tr>\n",
       "    <tr>\n",
       "      <th>Черные дыры</th>\n",
       "      <td>0.015650</td>\n",
       "    </tr>\n",
       "    <tr>\n",
       "      <th>Компьютеры</th>\n",
       "      <td>0.010294</td>\n",
       "    </tr>\n",
       "    <tr>\n",
       "      <th>Континенты</th>\n",
       "      <td>0.005792</td>\n",
       "    </tr>\n",
       "    <tr>\n",
       "      <th>Философия</th>\n",
       "      <td>0.013687</td>\n",
       "    </tr>\n",
       "    <tr>\n",
       "      <th>Лингвистика</th>\n",
       "      <td>0.013232</td>\n",
       "    </tr>\n",
       "    <tr>\n",
       "      <th>Франция</th>\n",
       "      <td>0.005865</td>\n",
       "    </tr>\n",
       "    <tr>\n",
       "      <th>Городская среда</th>\n",
       "      <td>0.008761</td>\n",
       "    </tr>\n",
       "    <tr>\n",
       "      <th>Медицина</th>\n",
       "      <td>0.009656</td>\n",
       "    </tr>\n",
       "    <tr>\n",
       "      <th>Социология</th>\n",
       "      <td>0.009295</td>\n",
       "    </tr>\n",
       "    <tr>\n",
       "      <th>Биоинформатика</th>\n",
       "      <td>0.005914</td>\n",
       "    </tr>\n",
       "    <tr>\n",
       "      <th>Религия</th>\n",
       "      <td>0.008231</td>\n",
       "    </tr>\n",
       "    <tr>\n",
       "      <th>ПРограммирование лексики</th>\n",
       "      <td>0.003982</td>\n",
       "    </tr>\n",
       "    <tr>\n",
       "      <th>Политика при СССР</th>\n",
       "      <td>0.010918</td>\n",
       "    </tr>\n",
       "    <tr>\n",
       "      <th>Молекулярная биология</th>\n",
       "      <td>0.022144</td>\n",
       "    </tr>\n",
       "    <tr>\n",
       "      <th>Сверхпроводимость</th>\n",
       "      <td>0.005235</td>\n",
       "    </tr>\n",
       "    <tr>\n",
       "      <th>Фоновая тема</th>\n",
       "      <td>0.677246</td>\n",
       "    </tr>\n",
       "  </tbody>\n",
       "</table>\n",
       "</div>"
      ],
      "text/plain": [
       "                             proba\n",
       "Древняя история Руси      0.010347\n",
       "Космос                    0.010862\n",
       "Педагогика                0.005904\n",
       "Наука                     0.041272\n",
       "Право                     0.007677\n",
       "Лазерная физика           0.009932\n",
       "Кино                      0.007144\n",
       "Смерть                    0.003844\n",
       "Химия                     0.010774\n",
       "Квантовая физика          0.020953\n",
       "Советская россия          0.014161\n",
       "Семья                     0.007338\n",
       "Эволюция                  0.010169\n",
       "История                   0.013720\n",
       "Черные дыры               0.015650\n",
       "Компьютеры                0.010294\n",
       "Континенты                0.005792\n",
       "Философия                 0.013687\n",
       "Лингвистика               0.013232\n",
       "Франция                   0.005865\n",
       "Городская среда           0.008761\n",
       "Медицина                  0.009656\n",
       "Социология                0.009295\n",
       "Биоинформатика            0.005914\n",
       "Религия                   0.008231\n",
       "ПРограммирование лексики  0.003982\n",
       "Политика при СССР         0.010918\n",
       "Молекулярная биология     0.022144\n",
       "Сверхпроводимость         0.005235\n",
       "Фоновая тема              0.677246"
      ]
     },
     "execution_count": 258,
     "metadata": {},
     "output_type": "execute_result"
    }
   ],
   "source": [
    "# Ваш код\n",
    "temp = theta.sum(axis=1)/(theta.sum(axis=1).sum(axis=0))\n",
    "temp = list(temp)\n",
    "temp\n",
    "df = pd.DataFrame(data=temp, index=topic_labels,columns=['proba'])\n",
    "df"
   ]
  },
  {
   "cell_type": "code",
   "execution_count": 285,
   "metadata": {},
   "outputs": [
    {
     "data": {
      "text/plain": [
       "[('Молекулярная биология', 0.022143589332699776),\n",
       " ('Квантовая физика', 0.020953288301825523),\n",
       " ('Черные дыры', 0.015650209039449692),\n",
       " ('Советская россия', 0.014160559512674809),\n",
       " ('История', 0.013719964772462845)]"
      ]
     },
     "execution_count": 285,
     "metadata": {},
     "output_type": "execute_result"
    }
   ],
   "source": [
    "dic = dict(df['proba'])\n",
    "dic\n",
    "sort = sorted(dic.items(), key=lambda kv: kv[1],reverse=True)\n",
    "sort[2:7]"
   ]
  },
  {
   "cell_type": "code",
   "execution_count": 286,
   "metadata": {},
   "outputs": [
    {
     "data": {
      "text/plain": [
       "[('Смерть', 0.0038444160018116236),\n",
       " ('ПРограммирование лексики', 0.003982291091233492),\n",
       " ('Сверхпроводимость', 0.005235233809798956)]"
      ]
     },
     "execution_count": 286,
     "metadata": {},
     "output_type": "execute_result"
    }
   ],
   "source": [
    "dic = dict(df['proba'])\n",
    "dic\n",
    "sort = sorted(dic.items(), key=lambda kv: kv[1])\n",
    "sort[:3]"
   ]
  },
  {
   "cell_type": "markdown",
   "metadata": {},
   "source": [
    "Найдите 5 самых распространенных и 3 наименее освещенных темы в коллекции (наибольшие и наименьшие $p(t)$ соответственно), не считая фоновую и общенаучную. Укажите названия, которые вы дали этим темам."
   ]
  },
  {
   "cell_type": "raw",
   "metadata": {},
   "source": [
    "Ваш ответ:\n",
    "5 тем с max p(t): Молекулярная биология, Квантовая физика, Черные дыры, Советская Россия, История\n",
    "3 темы с min p(t): Смерть, программирование лексики, сверхпроводимость."
   ]
  },
  {
   "cell_type": "markdown",
   "metadata": {},
   "source": [
    "Визуализируйте матрицу $\\Phi$ модальности авторов в виде изображения. Рекомендация: установите yticklabels=False в heatmap."
   ]
  },
  {
   "cell_type": "code",
   "execution_count": 292,
   "metadata": {},
   "outputs": [
    {
     "data": {
      "text/plain": [
       "<matplotlib.axes._subplots.AxesSubplot at 0x7fa204759f98>"
      ]
     },
     "execution_count": 292,
     "metadata": {},
     "output_type": "execute_result"
    },
    {
     "data": {
      "image/png": "[encoded data removed]",
      "text/plain": [
       "<Figure size 1440x1440 with 2 Axes>"
      ]
     },
     "metadata": {
      "needs_background": "light"
     },
     "output_type": "display_data"
    }
   ],
   "source": [
    "# Ваш код\n",
    "fig= plt.figure(figsize=(20,20))\n",
    "ax = fig.gca()\n",
    "seaborn.heatmap(phi,ax=ax,yticklabels=False)"
   ]
  },
  {
   "cell_type": "code",
   "execution_count": 317,
   "metadata": {},
   "outputs": [
    {
     "data": {
      "text/plain": [
       "array(['Александр_Воеводский', 'Алина_Бодрова', 'Илья_Иткин',\n",
       "       'Ольга_Вайнштейн', 'Ольга_Тогоева'], dtype='<U26')"
      ]
     },
     "execution_count": 317,
     "metadata": {},
     "output_type": "execute_result"
    }
   ],
   "source": [
    "dicts = []\n",
    "for i in range(T-1):\n",
    "    dicts.extend(list(dict(phi[phi['sbj'+str(i)]>0.01]['sbj'+str(i)]).keys()))\n",
    "np_ar = np.array(dicts)\n",
    "final = np.unique(np_ar,return_counts=True)\n",
    "final[0][final[1]>2]"
   ]
  },
  {
   "cell_type": "markdown",
   "metadata": {},
   "source": [
    "Каждой теме соответствует не очень большое число авторов - матрица достаточно разреженная. Кроме того, некоторые темы имеют доминирующего автора $a$, имеющего большую вероятность $p(a|t)$ - этот автор записал больше всего лекций по теме. "
   ]
  },
  {
   "cell_type": "markdown",
   "metadata": {},
   "source": [
    "Будем считать, что автор $a$ значим в теме, если $p(a|t) > 0.01$. Для каждого автора посчитайте, в скольких темах он значим. Найдите авторов-рекордсменов, которые значимы (а значит, читали лекции) в >= 3 темах."
   ]
  },
  {
   "cell_type": "raw",
   "metadata": {},
   "source": [
    "Ваш ответ:\n",
    "авторы, значимые в не менее чем 3 темах: 'Александр_Воеводский', 'Алина_Бодрова', 'Илья_Иткин',\n",
    "       'Ольга_Вайнштейн', 'Ольга_Тогоева'"
   ]
  },
  {
   "cell_type": "markdown",
   "metadata": {},
   "source": [
    "Большинство авторов значимы в 1 теме, что логично."
   ]
  },
  {
   "cell_type": "markdown",
   "metadata": {},
   "source": [
    "##### Построение тематической карты авторов"
   ]
  },
  {
   "cell_type": "markdown",
   "metadata": {},
   "source": [
    "По сути, в матрице $\\Phi$, соответствующей модальности авторов, записаны тематические кластеры авторов. Для любого автора мы можем составить его тематический круг - авторов, разбирающихся в той же теме, что и данный. Интересующиеся слушатели могут попробовать выполнить эту процедуру для ученых, читающих лекции на Постнауке, которых они знают (например, на Постнауке есть лекции с К. В. Воронцовым - лектором текущего модуля :)\n",
    "\n",
    "Составим карту близости авторов по тематике их исследований. Для этого применим метод понижения размерности MDS к тематическим профилям авторов.\n",
    "\n",
    "Чтобы получить тематический профиль автора, распределение $p(t|a)$, нужно воспользоваться формулой Байеса: \n",
    "$p(t|a) = \\frac {p(a|t) p(t)} {\\sum_t' p(a|t') p(t')}$. Все необходимые для этого величины у вас есть и записаны в переменных phi и pt. \n",
    "\n",
    "Передайте матрицу тематических профилей авторов, записанных по строкам, в метод MDS с n_components=2. Используйте косинусную метрику (она хорошо подходит для поиска расстояний между векторами, имеющими фиксированную сумму компонент)."
   ]
  },
  {
   "cell_type": "code",
   "execution_count": 336,
   "metadata": {},
   "outputs": [],
   "source": [
    "from sklearn.manifold import MDS\n",
    "from sklearn.metrics import pairwise_distances"
   ]
  },
  {
   "cell_type": "code",
   "execution_count": 372,
   "metadata": {},
   "outputs": [],
   "source": [
    "theme_prof = np.zeros(phi.shape)\n",
    "for i in range(theme_prof.shape[0]):\n",
    "    for j in range(theme_prof.shape[1]):\n",
    "        theme_prof[i,j] = phi.iloc[i,j]*df.iloc[j,:] / np.sum(phi.iloc[i,:]*df.proba.values)"
   ]
  },
  {
   "cell_type": "code",
   "execution_count": 373,
   "metadata": {},
   "outputs": [],
   "source": [
    "# Ваш код\n",
    "simil = pairwise_distances(theme_prof, metric='cosine')\n",
    "mds = MDS(n_components=2, dissimilarity='precomputed', random_state=42)\n",
    "pos = mds.fit_transform(simil)"
   ]
  },
  {
   "cell_type": "markdown",
   "metadata": {},
   "source": [
    "Визуализируйте найденные двумерные представления с помощью функции scatter. "
   ]
  },
  {
   "cell_type": "code",
   "execution_count": 374,
   "metadata": {},
   "outputs": [
    {
     "data": {
      "image/png": "[encoded data removed]",
      "text/plain": [
       "<Figure size 720x360 with 1 Axes>"
      ]
     },
     "metadata": {
      "needs_background": "light"
     },
     "output_type": "display_data"
    }
   ],
   "source": [
    "# Ваш код\n",
    "plt.figure(figsize=(10,5))\n",
    "plt.scatter(pos[:,0], pos[:,1])\n",
    "plt.show()"
   ]
  },
  {
   "cell_type": "markdown",
   "metadata": {},
   "source": [
    "Должно получиться, что некоторые грппы авторов формируют сгустки, которые можно считать тематическими группами авторов.\n",
    "\n",
    "Раскрасим точки следующим образом: для каждого автора выберем наиболее вероятную для него тему ($\\max_t p(t|a)$), и каждой теме сопоставим цвет. Кроме того, добавим на карту имена и фамилии авторов, это можно сделать в цикле по всем точкам с помощью функции plt.annotate, указывая метку точки первым аргументом и ее координаты в аргументе xy. Рекомендуется сделать размер изображения большим, тогда маркеры точек тоже придется увеличить (s=100 в plt.scatter). Изобразите карту авторов и сохраните в pdf-файл с помощью функции plt.savefig. \n",
    "\n",
    "Метки авторов будут пересекаться. Будет очень хорошо, если вы найдете способ, как этого можно избежать."
   ]
  },
  {
   "cell_type": "code",
   "execution_count": 375,
   "metadata": {},
   "outputs": [
    {
     "data": {
      "image/png": "[encoded data removed]",
      "text/plain": [
       "<Figure size 1080x720 with 1 Axes>"
      ]
     },
     "metadata": {
      "needs_background": "light"
     },
     "output_type": "display_data"
    }
   ],
   "source": [
    "import matplotlib.cm as cm\n",
    "colors = cm.rainbow(np.linspace(0, 1, T)) # цвета для тем\n",
    "# Ваш код\n",
    "max_theme_prob_for_colors = [np.argmax(author) for author in theme_prof]\n",
    "plt.figure(figsize=(15,10))\n",
    "plt.axis('off')\n",
    "plt.scatter(pos[:,0], pos[:,1], s=100, c=colors[max_theme_prob_for_colors])\n",
    "for i, author in enumerate(phi.index):\n",
    "    plt.annotate(author, pos[i])\n",
    "plt.savefig('map.pdf', dpi=200, format='pdf')\n",
    "plt.show()\n"
   ]
  },
  {
   "cell_type": "markdown",
   "metadata": {},
   "source": [
    "##### Создание простого тематического навигатора по Постнауке"
   ]
  },
  {
   "cell_type": "markdown",
   "metadata": {},
   "source": [
    "Наш тематический навигатор будет для каждой темы показывать ее список слов, а также список релевантных теме документов. \n",
    "\n",
    "Нам понадобятся распределения $p(d|t)$. По формуле Байеса $p(d|t) = \\frac{p(t|d)p(d)}{\\sum_{d'}p(t|d')p(d')}$, но поскольку мы считаем документы равновероятными, достаточно разделить каждую строку $\\Theta$ на ее сумму, чтобы оценить распределение. \n",
    "\n",
    "Отсортируйте матрицу $p(d|t)$ по убыванию $p(d|t)$ в каждой теме (то есть построчно). Нам понадобятся индексы наиболее вероятных документов в каждой теме, поэтому используйте функцию argmax."
   ]
  },
  {
   "cell_type": "code",
   "execution_count": 376,
   "metadata": {},
   "outputs": [
    {
     "data": {
      "text/plain": [
       "array([[ 257,  737, 1420, ...,  559, 1037,  425],\n",
       "       [1647,  747,  247, ...,  620,  617,    0],\n",
       "       [ 342, 1111, 1581, ..., 1068,  533,  927],\n",
       "       ...,\n",
       "       [1331,  176, 1648, ...,  705, 1387, 1727],\n",
       "       [ 648, 1267, 1474, ...,  505, 1063,  823],\n",
       "       [1452, 1467, 1278, ..., 1392,  171,  889]])"
      ]
     },
     "execution_count": 376,
     "metadata": {},
     "output_type": "execute_result"
    }
   ],
   "source": [
    "# Ваш код\n",
    "prob_doc_theme = theta.values / np.array([np.sum(theme) for theme in theta.values])[:, np.newaxis]\n",
    "prob_doc_theme_sorted_indices = prob_doc_theme.argsort(axis=1)[:,::-1]\n",
    "prob_doc_theme_sorted_indices"
   ]
  },
  {
   "cell_type": "markdown",
   "metadata": {},
   "source": [
    "Создавать навигатор мы будем прямо в jupiter notebook: это возможно благодаря тому факту, что при печати ссылки она автоматически превращается в гиперссылку."
   ]
  },
  {
   "cell_type": "code",
   "execution_count": 378,
   "metadata": {},
   "outputs": [
    {
     "name": "stdout",
     "output_type": "stream",
     "text": [
      "http://yandex.ru\n"
     ]
    }
   ],
   "source": [
    "print(\"http://yandex.ru\")  # получится кликабельная ссылка"
   ]
  },
  {
   "cell_type": "markdown",
   "metadata": {},
   "source": [
    "Кроме того, подключив модуль [ipython.core.display](https://ipython.org/ipython-doc/2/api/generated/IPython.core.display.html), можно использовать html-разметку в выводе. Например:"
   ]
  },
  {
   "cell_type": "code",
   "execution_count": 379,
   "metadata": {},
   "outputs": [
    {
     "data": {
      "text/html": [
       "<h1>Заголовок</h1>"
      ],
      "text/plain": [
       "<IPython.core.display.HTML object>"
      ]
     },
     "metadata": {},
     "output_type": "display_data"
    },
    {
     "data": {
      "text/html": [
       "<ul><li>Пункт 1</li><li>Пункт 2</li></ul>"
      ],
      "text/plain": [
       "<IPython.core.display.HTML object>"
      ]
     },
     "metadata": {},
     "output_type": "display_data"
    },
    {
     "data": {
      "text/html": [
       "<font color=\"green\">Зеленый!</font>"
      ],
      "text/plain": [
       "<IPython.core.display.HTML object>"
      ]
     },
     "metadata": {},
     "output_type": "display_data"
    },
    {
     "data": {
      "text/html": [
       "<a href=\"http://yandex.ru\">Еще один вариант вывода ссылки</a>"
      ],
      "text/plain": [
       "<IPython.core.display.HTML object>"
      ]
     },
     "metadata": {},
     "output_type": "display_data"
    }
   ],
   "source": [
    "from IPython.core.display import display, HTML\n",
    "display(HTML(u\"<h1>Заголовок</h1>\"))   # также <h2>, <h3>\n",
    "display(HTML(u\"<ul><li>Пункт 1</li><li>Пункт 2</li></ul>\"))\n",
    "display(HTML(u'<font color=\"green\">Зеленый!</font>'))\n",
    "display(HTML(u'<a href=\"http://yandex.ru\">Еще один вариант вывода ссылки</a>'))"
   ]
  },
  {
   "cell_type": "markdown",
   "metadata": {},
   "source": [
    "В цикле для каждой темы выведите ее заголовок, в следующей строке - топ-10 слов темы, затем в виде списка ссылки на 10 наиболее релевантных (по $p(d|t)$) теме документов. Используйте html-разметку. Творчество приветствуется :)"
   ]
  },
  {
   "cell_type": "code",
   "execution_count": 381,
   "metadata": {},
   "outputs": [
    {
     "data": {
      "text/html": [
       "<h3>Древняя история Руси</h3>"
      ],
      "text/plain": [
       "<IPython.core.display.HTML object>"
      ]
     },
     "metadata": {},
     "output_type": "display_data"
    },
    {
     "name": "stdout",
     "output_type": "stream",
     "text": [
      "церковь\n",
      "русь\n",
      "средневековый\n",
      "император\n",
      "святой\n",
      "власть\n",
      "сага\n",
      "князь\n",
      "папа\n",
      "византийский\n",
      "\n",
      "http://postnauka.ru/video/3348\n",
      "http://postnauka.ru/video/24034\n",
      "http://postnauka.ru/video/9968\n",
      "http://postnauka.ru/video/9299\n",
      "http://postnauka.ru/video/24039\n",
      "http://postnauka.ru/video/24030\n",
      "http://postnauka.ru/video/28942\n",
      "http://postnauka.ru/video/23472\n",
      "http://postnauka.ru/video/50350\n",
      "http://postnauka.ru/video/5464\n"
     ]
    },
    {
     "data": {
      "text/html": [
       "<h3>Космос</h3>"
      ],
      "text/plain": [
       "<IPython.core.display.HTML object>"
      ]
     },
     "metadata": {},
     "output_type": "display_data"
    },
    {
     "name": "stdout",
     "output_type": "stream",
     "text": [
      "планета\n",
      "земля\n",
      "атмосфера\n",
      "вода\n",
      "солнце\n",
      "солнечный\n",
      "белый\n",
      "карлик\n",
      "газ\n",
      "вокруг\n",
      "\n",
      "http://postnauka.ru/video/53693\n",
      "http://postnauka.ru/video/24245\n",
      "http://postnauka.ru/video/32889\n",
      "http://postnauka.ru/video/9835\n",
      "http://postnauka.ru/video/31695\n",
      "http://postnauka.ru/video/13098\n",
      "http://postnauka.ru/video/12971\n",
      "http://postnauka.ru/video/49261\n",
      "http://postnauka.ru/video/36249\n",
      "http://postnauka.ru/video/3381\n"
     ]
    },
    {
     "data": {
      "text/html": [
       "<h3>Педагогика</h3>"
      ],
      "text/plain": [
       "<IPython.core.display.HTML object>"
      ]
     },
     "metadata": {},
     "output_type": "display_data"
    },
    {
     "name": "stdout",
     "output_type": "stream",
     "text": [
      "система\n",
      "трудность\n",
      "относительность\n",
      "тест\n",
      "задание\n",
      "преподавание\n",
      "отсчет\n",
      "системный\n",
      "научение\n",
      "компетенция\n",
      "\n",
      "http://postnauka.ru/video/46317\n",
      "http://postnauka.ru/video/34426\n",
      "http://postnauka.ru/video/1856\n",
      "http://postnauka.ru/video/50347\n",
      "http://postnauka.ru/video/37982\n",
      "http://postnauka.ru/video/19570\n",
      "http://postnauka.ru/video/53415\n",
      "http://postnauka.ru/video/56618\n",
      "http://postnauka.ru/video/47457\n",
      "http://postnauka.ru/video/52548\n"
     ]
    },
    {
     "data": {
      "text/html": [
       "<h3>Наука</h3>"
      ],
      "text/plain": [
       "<IPython.core.display.HTML object>"
      ]
     },
     "metadata": {},
     "output_type": "display_data"
    },
    {
     "name": "stdout",
     "output_type": "stream",
     "text": [
      "культура\n",
      "наука\n",
      "рассказывать\n",
      "понятие\n",
      "кандидат\n",
      "исторический\n",
      "каков\n",
      "доктор\n",
      "культурный\n",
      "сознание\n",
      "\n",
      "http://postnauka.ru/video/11034\n",
      "http://postnauka.ru/video/10749\n",
      "http://postnauka.ru/video/7549\n",
      "http://postnauka.ru/video/5891\n",
      "http://postnauka.ru/video/3602\n",
      "http://postnauka.ru/video/7757\n",
      "http://postnauka.ru/video/12524\n",
      "http://postnauka.ru/video/7351\n",
      "http://postnauka.ru/video/7065\n",
      "http://postnauka.ru/video/2524\n"
     ]
    },
    {
     "data": {
      "text/html": [
       "<h3>Право</h3>"
      ],
      "text/plain": [
       "<IPython.core.display.HTML object>"
      ]
     },
     "metadata": {},
     "output_type": "display_data"
    },
    {
     "name": "stdout",
     "output_type": "stream",
     "text": [
      "право\n",
      "правовой\n",
      "римский\n",
      "юрист\n",
      "искусство\n",
      "суд\n",
      "юридический\n",
      "должник\n",
      "собственность\n",
      "обязательство\n",
      "\n",
      "http://postnauka.ru/video/17913\n",
      "http://postnauka.ru/video/31688\n",
      "http://postnauka.ru/video/17825\n",
      "http://postnauka.ru/video/38009\n",
      "http://postnauka.ru/video/34414\n",
      "http://postnauka.ru/video/49455\n",
      "http://postnauka.ru/video/42221\n",
      "http://postnauka.ru/video/31666\n",
      "http://postnauka.ru/video/16822\n",
      "http://postnauka.ru/video/42220\n"
     ]
    },
    {
     "data": {
      "text/html": [
       "<h3>Лазерная физика</h3>"
      ],
      "text/plain": [
       "<IPython.core.display.HTML object>"
      ]
     },
     "metadata": {},
     "output_type": "display_data"
    },
    {
     "name": "stdout",
     "output_type": "stream",
     "text": [
      "материал\n",
      "свет\n",
      "оптический\n",
      "полимер\n",
      "применение\n",
      "импульс\n",
      "поверхность\n",
      "электронный\n",
      "использование\n",
      "лазерный\n",
      "\n",
      "http://postnauka.ru/video/35065\n",
      "http://postnauka.ru/video/36187\n",
      "http://postnauka.ru/video/36655\n",
      "http://postnauka.ru/video/59579\n",
      "http://postnauka.ru/video/41686\n",
      "http://postnauka.ru/video/47818\n",
      "http://postnauka.ru/video/31182\n",
      "http://postnauka.ru/video/9144\n",
      "http://postnauka.ru/video/10379\n",
      "http://postnauka.ru/video/36490\n"
     ]
    },
    {
     "data": {
      "text/html": [
       "<h3>Кино</h3>"
      ],
      "text/plain": [
       "<IPython.core.display.HTML object>"
      ]
     },
     "metadata": {},
     "output_type": "display_data"
    },
    {
     "name": "stdout",
     "output_type": "stream",
     "text": [
      "литература\n",
      "фильм\n",
      "текст\n",
      "литературный\n",
      "кино\n",
      "произведение\n",
      "автор\n",
      "герой\n",
      "жанр\n",
      "кинематограф\n",
      "\n",
      "http://postnauka.ru/video/14297\n",
      "http://postnauka.ru/video/39723\n",
      "http://postnauka.ru/video/7551\n",
      "http://postnauka.ru/video/10759\n",
      "http://postnauka.ru/video/2946\n",
      "http://postnauka.ru/video/57127\n",
      "http://postnauka.ru/video/13541\n",
      "http://postnauka.ru/video/52416\n",
      "http://postnauka.ru/video/38510\n",
      "http://postnauka.ru/video/42807\n"
     ]
    },
    {
     "data": {
      "text/html": [
       "<h3>Смерть</h3>"
      ],
      "text/plain": [
       "<IPython.core.display.HTML object>"
      ]
     },
     "metadata": {},
     "output_type": "display_data"
    },
    {
     "name": "stdout",
     "output_type": "stream",
     "text": [
      "смерть\n",
      "ритуал\n",
      "диктатура\n",
      "государь\n",
      "обряд\n",
      "правитель\n",
      "конвент\n",
      "орден\n",
      "террор\n",
      "монтаньяр\n",
      "\n",
      "http://postnauka.ru/video/1893\n",
      "http://postnauka.ru/video/1899\n",
      "http://postnauka.ru/video/12374\n",
      "http://postnauka.ru/video/34963\n",
      "http://postnauka.ru/video/41680\n",
      "http://postnauka.ru/video/19472\n",
      "http://postnauka.ru/video/37958\n",
      "http://postnauka.ru/video/48480\n",
      "http://postnauka.ru/video/37992\n",
      "http://postnauka.ru/video/32882\n"
     ]
    },
    {
     "data": {
      "text/html": [
       "<h3>Химия</h3>"
      ],
      "text/plain": [
       "<IPython.core.display.HTML object>"
      ]
     },
     "metadata": {},
     "output_type": "display_data"
    },
    {
     "name": "stdout",
     "output_type": "stream",
     "text": [
      "структура\n",
      "вещество\n",
      "химический\n",
      "соединение\n",
      "химия\n",
      "давление\n",
      "углерод\n",
      "реакция\n",
      "металл\n",
      "органический\n",
      "\n",
      "http://postnauka.ru/video/8953\n",
      "http://postnauka.ru/video/48107\n",
      "http://postnauka.ru/video/18048\n",
      "http://postnauka.ru/video/51490\n",
      "http://postnauka.ru/video/32668\n",
      "http://postnauka.ru/video/13700\n",
      "http://postnauka.ru/video/19086\n",
      "http://postnauka.ru/video/16171\n",
      "http://postnauka.ru/video/23253\n",
      "http://postnauka.ru/video/3645\n"
     ]
    },
    {
     "data": {
      "text/html": [
       "<h3>Квантовая физика</h3>"
      ],
      "text/plain": [
       "<IPython.core.display.HTML object>"
      ]
     },
     "metadata": {},
     "output_type": "display_data"
    },
    {
     "name": "stdout",
     "output_type": "stream",
     "text": [
      "частица\n",
      "энергия\n",
      "квантовый\n",
      "поле\n",
      "физика\n",
      "атом\n",
      "взаимодействие\n",
      "магнитный\n",
      "электрон\n",
      "кварк\n",
      "\n",
      "http://postnauka.ru/video/13043\n",
      "http://postnauka.ru/video/18870\n",
      "http://postnauka.ru/video/22760\n",
      "http://postnauka.ru/video/2945\n",
      "http://postnauka.ru/video/18873\n",
      "http://postnauka.ru/video/14283\n",
      "http://postnauka.ru/video/7753\n",
      "http://postnauka.ru/video/7311\n",
      "http://postnauka.ru/video/19457\n",
      "http://postnauka.ru/video/11651\n"
     ]
    },
    {
     "data": {
      "text/html": [
       "<h3>Советская россия</h3>"
      ],
      "text/plain": [
       "<IPython.core.display.HTML object>"
      ]
     },
     "metadata": {},
     "output_type": "display_data"
    },
    {
     "name": "stdout",
     "output_type": "stream",
     "text": [
      "война\n",
      "россия\n",
      "советский\n",
      "русский\n",
      "власть\n",
      "российский\n",
      "германия\n",
      "мировой\n",
      "реформа\n",
      "историк\n",
      "\n",
      "http://postnauka.ru/video/19574\n",
      "http://postnauka.ru/video/46939\n",
      "http://postnauka.ru/video/25906\n",
      "http://postnauka.ru/video/31183\n",
      "http://postnauka.ru/video/35041\n",
      "http://postnauka.ru/video/36246\n",
      "http://postnauka.ru/video/34936\n",
      "http://postnauka.ru/video/25283\n",
      "http://postnauka.ru/video/52936\n",
      "http://postnauka.ru/video/36581\n"
     ]
    },
    {
     "data": {
      "text/html": [
       "<h3>Семья</h3>"
      ],
      "text/plain": [
       "<IPython.core.display.HTML object>"
      ]
     },
     "metadata": {},
     "output_type": "display_data"
    },
    {
     "name": "stdout",
     "output_type": "stream",
     "text": [
      "ребенок\n",
      "женщина\n",
      "семья\n",
      "мужчина\n",
      "возраст\n",
      "взрослый\n",
      "сон\n",
      "мать\n",
      "родитель\n",
      "старение\n",
      "\n",
      "http://postnauka.ru/video/22892\n",
      "http://postnauka.ru/video/11361\n",
      "http://postnauka.ru/video/30678\n",
      "http://postnauka.ru/video/10753\n",
      "http://postnauka.ru/video/59638\n",
      "http://postnauka.ru/video/31220\n",
      "http://postnauka.ru/video/60527\n",
      "http://postnauka.ru/video/52948\n",
      "http://postnauka.ru/video/40266\n",
      "http://postnauka.ru/video/57866\n"
     ]
    },
    {
     "data": {
      "text/html": [
       "<h3>Эволюция</h3>"
      ],
      "text/plain": [
       "<IPython.core.display.HTML object>"
      ]
     },
     "metadata": {},
     "output_type": "display_data"
    },
    {
     "name": "stdout",
     "output_type": "stream",
     "text": [
      "мозг\n",
      "животное\n",
      "нейрон\n",
      "растение\n",
      "эволюция\n",
      "отбор\n",
      "озеро\n",
      "эволюционный\n",
      "песня\n",
      "сердце\n",
      "\n",
      "http://postnauka.ru/video/25097\n",
      "http://postnauka.ru/video/34413\n",
      "http://postnauka.ru/video/16821\n",
      "http://postnauka.ru/video/18007\n",
      "http://postnauka.ru/video/25890\n",
      "http://postnauka.ru/video/30261\n",
      "http://postnauka.ru/video/36350\n",
      "http://postnauka.ru/video/25321\n",
      "http://postnauka.ru/video/22077\n",
      "http://postnauka.ru/video/23172\n"
     ]
    },
    {
     "data": {
      "text/html": [
       "<h3>История</h3>"
      ],
      "text/plain": [
       "<IPython.core.display.HTML object>"
      ]
     },
     "metadata": {},
     "output_type": "display_data"
    },
    {
     "name": "stdout",
     "output_type": "stream",
     "text": [
      "территория\n",
      "христианский\n",
      "империя\n",
      "восток\n",
      "народ\n",
      "древний\n",
      "письменность\n",
      "христианство\n",
      "государство\n",
      "памятник\n",
      "\n",
      "http://postnauka.ru/video/53171\n",
      "http://postnauka.ru/video/2527\n",
      "http://postnauka.ru/video/50071\n",
      "http://postnauka.ru/video/59201\n",
      "http://postnauka.ru/video/58742\n",
      "http://postnauka.ru/video/50066\n",
      "http://postnauka.ru/video/49203\n",
      "http://postnauka.ru/video/48959\n",
      "http://postnauka.ru/video/10751\n",
      "http://postnauka.ru/video/46313\n"
     ]
    },
    {
     "data": {
      "text/html": [
       "<h3>Черные дыры</h3>"
      ],
      "text/plain": [
       "<IPython.core.display.HTML object>"
      ]
     },
     "metadata": {},
     "output_type": "display_data"
    },
    {
     "name": "stdout",
     "output_type": "stream",
     "text": [
      "звезда\n",
      "галактика\n",
      "масса\n",
      "вселенная\n",
      "черный\n",
      "дыра\n",
      "волна\n",
      "излучение\n",
      "скорость\n",
      "телескоп\n",
      "\n",
      "http://postnauka.ru/video/31193\n",
      "http://postnauka.ru/video/17780\n",
      "http://postnauka.ru/video/2971\n",
      "http://postnauka.ru/video/45644\n",
      "http://postnauka.ru/video/48109\n",
      "http://postnauka.ru/video/30015\n",
      "http://postnauka.ru/video/57338\n",
      "http://postnauka.ru/video/17779\n",
      "http://postnauka.ru/video/23506\n",
      "http://postnauka.ru/video/23502\n"
     ]
    },
    {
     "data": {
      "text/html": [
       "<h3>Компьютеры</h3>"
      ],
      "text/plain": [
       "<IPython.core.display.HTML object>"
      ]
     },
     "metadata": {},
     "output_type": "display_data"
    },
    {
     "name": "stdout",
     "output_type": "stream",
     "text": [
      "задача\n",
      "информация\n",
      "память\n",
      "решение\n",
      "данные\n",
      "компьютер\n",
      "психология\n",
      "мышление\n",
      "когнитивный\n",
      "внимание\n",
      "\n",
      "http://postnauka.ru/video/56052\n",
      "http://postnauka.ru/video/24451\n",
      "http://postnauka.ru/video/24182\n",
      "http://postnauka.ru/video/5181\n",
      "http://postnauka.ru/video/26633\n",
      "http://postnauka.ru/video/57336\n",
      "http://postnauka.ru/video/53949\n",
      "http://postnauka.ru/video/19577\n",
      "http://postnauka.ru/video/17421\n",
      "http://postnauka.ru/video/34960\n"
     ]
    },
    {
     "data": {
      "text/html": [
       "<h3>Континенты</h3>"
      ],
      "text/plain": [
       "<IPython.core.display.HTML object>"
      ]
     },
     "metadata": {},
     "output_type": "display_data"
    },
    {
     "name": "stdout",
     "output_type": "stream",
     "text": [
      "раса\n",
      "океан\n",
      "африка\n",
      "остров\n",
      "америка\n",
      "южный\n",
      "станислав\n",
      "географический\n",
      "монголоид\n",
      "дробышевский\n",
      "\n",
      "http://postnauka.ru/video/17397\n",
      "http://postnauka.ru/video/31707\n",
      "http://postnauka.ru/video/37732\n",
      "http://postnauka.ru/video/49262\n",
      "http://postnauka.ru/video/32898\n",
      "http://postnauka.ru/video/42735\n",
      "http://postnauka.ru/video/42707\n",
      "http://postnauka.ru/video/35150\n",
      "http://postnauka.ru/video/40880\n",
      "http://postnauka.ru/video/36253\n"
     ]
    },
    {
     "data": {
      "text/html": [
       "<h3>Философия</h3>"
      ],
      "text/plain": [
       "<IPython.core.display.HTML object>"
      ]
     },
     "metadata": {},
     "output_type": "display_data"
    },
    {
     "name": "stdout",
     "output_type": "stream",
     "text": [
      "политический\n",
      "философия\n",
      "государство\n",
      "философский\n",
      "философ\n",
      "свобода\n",
      "идеология\n",
      "платон\n",
      "мысль\n",
      "враг\n",
      "\n",
      "http://postnauka.ru/video/12738\n",
      "http://postnauka.ru/video/3418\n",
      "http://postnauka.ru/video/32906\n",
      "http://postnauka.ru/video/37965\n",
      "http://postnauka.ru/video/53513\n",
      "http://postnauka.ru/video/42088\n",
      "http://postnauka.ru/video/2526\n",
      "http://postnauka.ru/video/36976\n",
      "http://postnauka.ru/video/9728\n",
      "http://postnauka.ru/video/31690\n"
     ]
    },
    {
     "data": {
      "text/html": [
       "<h3>Лингвистика</h3>"
      ],
      "text/plain": [
       "<IPython.core.display.HTML object>"
      ]
     },
     "metadata": {},
     "output_type": "display_data"
    },
    {
     "name": "stdout",
     "output_type": "stream",
     "text": [
      "язык\n",
      "слово\n",
      "русский\n",
      "словарь\n",
      "текст\n",
      "предложение\n",
      "лингвист\n",
      "значение\n",
      "категория\n",
      "глагол\n",
      "\n",
      "http://postnauka.ru/video/22433\n",
      "http://postnauka.ru/video/36272\n",
      "http://postnauka.ru/video/3403\n",
      "http://postnauka.ru/video/2961\n",
      "http://postnauka.ru/video/1898\n",
      "http://postnauka.ru/video/51374\n",
      "http://postnauka.ru/video/53644\n",
      "http://postnauka.ru/video/56616\n",
      "http://postnauka.ru/video/30017\n",
      "http://postnauka.ru/video/51499\n"
     ]
    },
    {
     "data": {
      "text/html": [
       "<h3>Франция</h3>"
      ],
      "text/plain": [
       "<IPython.core.display.HTML object>"
      ]
     },
     "metadata": {},
     "output_type": "display_data"
    },
    {
     "name": "stdout",
     "output_type": "stream",
     "text": [
      "революция\n",
      "французский\n",
      "франция\n",
      "театр\n",
      "король\n",
      "роман\n",
      "костюм\n",
      "нация\n",
      "национальный\n",
      "актер\n",
      "\n",
      "http://postnauka.ru/video/24279\n",
      "http://postnauka.ru/video/48492\n",
      "http://postnauka.ru/video/40004\n",
      "http://postnauka.ru/video/47823\n",
      "http://postnauka.ru/video/43843\n",
      "http://postnauka.ru/video/54175\n",
      "http://postnauka.ru/video/48455\n",
      "http://postnauka.ru/video/58542\n",
      "http://postnauka.ru/video/22079\n",
      "http://postnauka.ru/video/23470\n"
     ]
    },
    {
     "data": {
      "text/html": [
       "<h3>Городская среда</h3>"
      ],
      "text/plain": [
       "<IPython.core.display.HTML object>"
      ]
     },
     "metadata": {},
     "output_type": "display_data"
    },
    {
     "name": "stdout",
     "output_type": "stream",
     "text": [
      "город\n",
      "сеть\n",
      "робот\n",
      "городской\n",
      "интернет\n",
      "пользователь\n",
      "компания\n",
      "музей\n",
      "медиа\n",
      "горожанин\n",
      "\n",
      "http://postnauka.ru/video/13742\n",
      "http://postnauka.ru/video/12515\n",
      "http://postnauka.ru/video/11634\n",
      "http://postnauka.ru/video/34424\n",
      "http://postnauka.ru/video/9998\n",
      "http://postnauka.ru/video/7068\n",
      "http://postnauka.ru/video/17604\n",
      "http://postnauka.ru/video/47301\n",
      "http://postnauka.ru/video/8313\n",
      "http://postnauka.ru/video/25253\n"
     ]
    },
    {
     "data": {
      "text/html": [
       "<h3>Медицина</h3>"
      ],
      "text/plain": [
       "<IPython.core.display.HTML object>"
      ]
     },
     "metadata": {},
     "output_type": "display_data"
    },
    {
     "name": "stdout",
     "output_type": "stream",
     "text": [
      "болезнь\n",
      "заболевание\n",
      "пациент\n",
      "лечение\n",
      "медицина\n",
      "врач\n",
      "боль\n",
      "препарат\n",
      "медицинский\n",
      "операция\n",
      "\n",
      "http://postnauka.ru/video/2541\n",
      "http://postnauka.ru/video/54325\n",
      "http://postnauka.ru/video/12974\n",
      "http://postnauka.ru/video/49206\n",
      "http://postnauka.ru/video/13746\n",
      "http://postnauka.ru/video/45961\n",
      "http://postnauka.ru/video/532\n",
      "http://postnauka.ru/video/51384\n",
      "http://postnauka.ru/video/27925\n",
      "http://postnauka.ru/video/17049\n"
     ]
    },
    {
     "data": {
      "text/html": [
       "<h3>Социология</h3>"
      ],
      "text/plain": [
       "<IPython.core.display.HTML object>"
      ]
     },
     "metadata": {},
     "output_type": "display_data"
    },
    {
     "name": "stdout",
     "output_type": "stream",
     "text": [
      "социальный\n",
      "знание\n",
      "социология\n",
      "социологический\n",
      "дисциплина\n",
      "познание\n",
      "социолог\n",
      "повседневный\n",
      "виктор\n",
      "машинный\n",
      "\n",
      "http://postnauka.ru/video/10783\n",
      "http://postnauka.ru/video/434\n",
      "http://postnauka.ru/video/12083\n",
      "http://postnauka.ru/video/17491\n",
      "http://postnauka.ru/video/6380\n",
      "http://postnauka.ru/video/20720\n",
      "http://postnauka.ru/video/2530\n",
      "http://postnauka.ru/video/3628\n",
      "http://postnauka.ru/video/11640\n",
      "http://postnauka.ru/video/14295\n"
     ]
    },
    {
     "data": {
      "text/html": [
       "<h3>Биоинформатика</h3>"
      ],
      "text/plain": [
       "<IPython.core.display.HTML object>"
      ]
     },
     "metadata": {},
     "output_type": "display_data"
    },
    {
     "name": "stdout",
     "output_type": "stream",
     "text": [
      "микроорганизм\n",
      "матрица\n",
      "интеллект\n",
      "эмоция\n",
      "алгоритм\n",
      "вычислительный\n",
      "эмоциональный\n",
      "схема\n",
      "искусственный\n",
      "микроб\n",
      "\n",
      "http://postnauka.ru/video/31671\n",
      "http://postnauka.ru/video/2531\n",
      "http://postnauka.ru/video/49437\n",
      "http://postnauka.ru/video/42416\n",
      "http://postnauka.ru/video/15981\n",
      "http://postnauka.ru/video/52738\n",
      "http://postnauka.ru/video/33788\n",
      "http://postnauka.ru/video/3352\n",
      "http://postnauka.ru/video/34964\n",
      "http://postnauka.ru/video/38018\n"
     ]
    },
    {
     "data": {
      "text/html": [
       "<h3>Религия</h3>"
      ],
      "text/plain": [
       "<IPython.core.display.HTML object>"
      ]
     },
     "metadata": {},
     "output_type": "display_data"
    },
    {
     "name": "stdout",
     "output_type": "stream",
     "text": [
      "бог\n",
      "миф\n",
      "царь\n",
      "греческий\n",
      "море\n",
      "мифология\n",
      "душа\n",
      "грек\n",
      "андрей\n",
      "египетский\n",
      "\n",
      "http://postnauka.ru/video/10779\n",
      "http://postnauka.ru/video/9997\n",
      "http://postnauka.ru/video/12527\n",
      "http://postnauka.ru/video/21631\n",
      "http://postnauka.ru/video/43664\n",
      "http://postnauka.ru/video/31580\n",
      "http://postnauka.ru/video/5999\n",
      "http://postnauka.ru/video/46429\n",
      "http://postnauka.ru/video/54238\n",
      "http://postnauka.ru/video/42796\n"
     ]
    },
    {
     "data": {
      "text/html": [
       "<h3>ПРограммирование лексики</h3>"
      ],
      "text/plain": [
       "<IPython.core.display.HTML object>"
      ]
     },
     "metadata": {},
     "output_type": "display_data"
    },
    {
     "name": "stdout",
     "output_type": "stream",
     "text": [
      "гласный\n",
      "согласный\n",
      "звук\n",
      "говор\n",
      "компилятор\n",
      "программирование\n",
      "мягкий\n",
      "диалект\n",
      "твердость\n",
      "столыпин\n",
      "\n",
      "http://postnauka.ru/video/48114\n",
      "http://postnauka.ru/video/13041\n",
      "http://postnauka.ru/video/51171\n",
      "http://postnauka.ru/video/8964\n",
      "http://postnauka.ru/video/15341\n",
      "http://postnauka.ru/video/10773\n",
      "http://postnauka.ru/video/40001\n",
      "http://postnauka.ru/video/14284\n",
      "http://postnauka.ru/video/27944\n",
      "http://postnauka.ru/video/15343\n"
     ]
    },
    {
     "data": {
      "text/html": [
       "<h3>Политика при СССР</h3>"
      ],
      "text/plain": [
       "<IPython.core.display.HTML object>"
      ]
     },
     "metadata": {},
     "output_type": "display_data"
    },
    {
     "name": "stdout",
     "output_type": "stream",
     "text": [
      "страна\n",
      "политика\n",
      "экономический\n",
      "экономика\n",
      "сталин\n",
      "кризис\n",
      "праздник\n",
      "крестьянин\n",
      "коллективный\n",
      "принятие\n",
      "\n",
      "http://postnauka.ru/video/9389\n",
      "http://postnauka.ru/video/7781\n",
      "http://postnauka.ru/video/31684\n",
      "http://postnauka.ru/video/10380\n",
      "http://postnauka.ru/video/6758\n",
      "http://postnauka.ru/video/13152\n",
      "http://postnauka.ru/video/30601\n",
      "http://postnauka.ru/video/36242\n",
      "http://postnauka.ru/video/9429\n",
      "http://postnauka.ru/video/26616\n"
     ]
    },
    {
     "data": {
      "text/html": [
       "<h3>Молекулярная биология</h3>"
      ],
      "text/plain": [
       "<IPython.core.display.HTML object>"
      ]
     },
     "metadata": {},
     "output_type": "display_data"
    },
    {
     "name": "stdout",
     "output_type": "stream",
     "text": [
      "клетка\n",
      "ген\n",
      "днк\n",
      "белок\n",
      "организм\n",
      "молекула\n",
      "биологический\n",
      "генетический\n",
      "геном\n",
      "бактерия\n",
      "\n",
      "http://postnauka.ru/video/7113\n",
      "http://postnauka.ru/video/5915\n",
      "http://postnauka.ru/video/5390\n",
      "http://postnauka.ru/video/19436\n",
      "http://postnauka.ru/video/10754\n",
      "http://postnauka.ru/video/10475\n",
      "http://postnauka.ru/video/17051\n",
      "http://postnauka.ru/video/35051\n",
      "http://postnauka.ru/video/9854\n",
      "http://postnauka.ru/video/32881\n"
     ]
    },
    {
     "data": {
      "text/html": [
       "<h3>Сверхпроводимость</h3>"
      ],
      "text/plain": [
       "<IPython.core.display.HTML object>"
      ]
     },
     "metadata": {},
     "output_type": "display_data"
    },
    {
     "name": "stdout",
     "output_type": "stream",
     "text": [
      "температура\n",
      "университет\n",
      "сверхпроводимость\n",
      "сверхпроводник\n",
      "сверхпроводящий\n",
      "частота\n",
      "переход\n",
      "заимствование\n",
      "гумбольдт\n",
      "точность\n",
      "\n",
      "http://postnauka.ru/video/2973\n",
      "http://postnauka.ru/video/49448\n",
      "http://postnauka.ru/video/51380\n",
      "http://postnauka.ru/video/50340\n",
      "http://postnauka.ru/video/31198\n",
      "http://postnauka.ru/video/55756\n",
      "http://postnauka.ru/video/51174\n",
      "http://postnauka.ru/video/50699\n",
      "http://postnauka.ru/video/19461\n",
      "http://postnauka.ru/video/40889\n"
     ]
    },
    {
     "data": {
      "text/html": [
       "<h3>Фоновая тема</h3>"
      ],
      "text/plain": [
       "<IPython.core.display.HTML object>"
      ]
     },
     "metadata": {},
     "output_type": "display_data"
    },
    {
     "name": "stdout",
     "output_type": "stream",
     "text": [
      "быть\n",
      "что\n",
      "это\n",
      "который\n",
      "этот\n",
      "как\n",
      "они\n",
      "мочь\n",
      "такой\n",
      "очень\n",
      "\n",
      "http://postnauka.ru/video/51184\n",
      "http://postnauka.ru/video/51365\n",
      "http://postnauka.ru/video/49851\n",
      "http://postnauka.ru/video/31214\n",
      "http://postnauka.ru/video/34427\n",
      "http://postnauka.ru/video/42436\n",
      "http://postnauka.ru/video/45956\n",
      "http://postnauka.ru/video/51178\n",
      "http://postnauka.ru/video/50706\n",
      "http://postnauka.ru/video/50659\n"
     ]
    }
   ],
   "source": [
    "# Ваш код\n",
    "for i, theme in enumerate(topic_labels):\n",
    "    display(HTML(\"<h3>%s</h3>\" % theme))\n",
    "    for j in range(10):\n",
    "        print(tokens[model.topic_names[i]][j]),\n",
    "    print('')\n",
    "    for k in range(10):\n",
    "        print(theta.columns[prob_doc_theme_sorted_indices[i,k]])"
   ]
  },
  {
   "cell_type": "markdown",
   "metadata": {},
   "source": [
    "##### Заключение"
   ]
  },
  {
   "cell_type": "markdown",
   "metadata": {},
   "source": [
    "В этом Peer Review мы познакомились с базовыми возможностями библиотеки BigARTM и с методами визуализации тематических моделей. Визуализация тематических моделей - это широкая и активно развивающаяся область научных исследований. Мы рассмотрели только самые простые приемы. Желающие могут попробовать применить [Serendip](http://vep.cs.wisc.edu/serendip/#serendipHero), разработанный в  University of Wisconsin-Madison, к построенной модели. Эта библиотека позволяет максимально полно охарактеризовать темы и написана для языка python. \n",
    "\n",
    "Сделав задание, вы можете выбрать в навигаторе наиболее интересную для вас тему и посмотреть видеолекции :) На Постнауке очень много интересных материалов. "
   ]
  }
 ],
 "metadata": {
  "kernelspec": {
   "display_name": "Python 3",
   "language": "python",
   "name": "python3"
  },
  "language_info": {
   "codemirror_mode": {
    "name": "ipython",
    "version": 3
   },
   "file_extension": ".py",
   "mimetype": "text/x-python",
   "name": "python",
   "nbconvert_exporter": "python",
   "pygments_lexer": "ipython3",
   "version": "3.5.2"
  }
 },
 "nbformat": 4,
 "nbformat_minor": 1
}

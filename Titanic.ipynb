{
 "cells": [
  {
   "cell_type": "code",
   "execution_count": 1,
   "metadata": {},
   "outputs": [
    {
     "name": "stderr",
     "output_type": "stream",
     "text": [
      "/home/fotol/4year/lib/python3.5/site-packages/sklearn/cross_validation.py:41: DeprecationWarning: This module was deprecated in version 0.18 in favor of the model_selection module into which all the refactored classes and functions are moved. Also note that the interface of the new CV iterators are different from that of this module. This module will be removed in 0.20.\n",
      "  \"This module will be removed in 0.20.\", DeprecationWarning)\n",
      "/home/fotol/4year/lib/python3.5/site-packages/sklearn/grid_search.py:42: DeprecationWarning: This module was deprecated in version 0.18 in favor of the model_selection module into which all the refactored classes and functions are moved. This module will be removed in 0.20.\n",
      "  DeprecationWarning)\n"
     ]
    },
    {
     "data": {
      "text/html": [
       "<div>\n",
       "<style scoped>\n",
       "    .dataframe tbody tr th:only-of-type {\n",
       "        vertical-align: middle;\n",
       "    }\n",
       "\n",
       "    .dataframe tbody tr th {\n",
       "        vertical-align: top;\n",
       "    }\n",
       "\n",
       "    .dataframe thead th {\n",
       "        text-align: right;\n",
       "    }\n",
       "</style>\n",
       "<table border=\"1\" class=\"dataframe\">\n",
       "  <thead>\n",
       "    <tr style=\"text-align: right;\">\n",
       "      <th></th>\n",
       "      <th>PassengerId</th>\n",
       "      <th>Pclass</th>\n",
       "      <th>Sex</th>\n",
       "      <th>Age</th>\n",
       "      <th>SibSp</th>\n",
       "      <th>Parch</th>\n",
       "      <th>Fare</th>\n",
       "      <th>Cabin</th>\n",
       "      <th>Embarked</th>\n",
       "      <th>MrMrs</th>\n",
       "    </tr>\n",
       "  </thead>\n",
       "  <tbody>\n",
       "    <tr>\n",
       "      <th>0</th>\n",
       "      <td>892</td>\n",
       "      <td>3</td>\n",
       "      <td>male</td>\n",
       "      <td>34.5</td>\n",
       "      <td>0</td>\n",
       "      <td>0</td>\n",
       "      <td>7.8292</td>\n",
       "      <td>NaN</td>\n",
       "      <td>Q</td>\n",
       "      <td>1</td>\n",
       "    </tr>\n",
       "    <tr>\n",
       "      <th>1</th>\n",
       "      <td>893</td>\n",
       "      <td>3</td>\n",
       "      <td>female</td>\n",
       "      <td>47.0</td>\n",
       "      <td>1</td>\n",
       "      <td>0</td>\n",
       "      <td>7.0000</td>\n",
       "      <td>NaN</td>\n",
       "      <td>S</td>\n",
       "      <td>1</td>\n",
       "    </tr>\n",
       "    <tr>\n",
       "      <th>2</th>\n",
       "      <td>894</td>\n",
       "      <td>2</td>\n",
       "      <td>male</td>\n",
       "      <td>62.0</td>\n",
       "      <td>0</td>\n",
       "      <td>0</td>\n",
       "      <td>9.6875</td>\n",
       "      <td>NaN</td>\n",
       "      <td>Q</td>\n",
       "      <td>1</td>\n",
       "    </tr>\n",
       "    <tr>\n",
       "      <th>3</th>\n",
       "      <td>895</td>\n",
       "      <td>3</td>\n",
       "      <td>male</td>\n",
       "      <td>27.0</td>\n",
       "      <td>0</td>\n",
       "      <td>0</td>\n",
       "      <td>8.6625</td>\n",
       "      <td>NaN</td>\n",
       "      <td>S</td>\n",
       "      <td>1</td>\n",
       "    </tr>\n",
       "    <tr>\n",
       "      <th>4</th>\n",
       "      <td>896</td>\n",
       "      <td>3</td>\n",
       "      <td>female</td>\n",
       "      <td>22.0</td>\n",
       "      <td>1</td>\n",
       "      <td>1</td>\n",
       "      <td>12.2875</td>\n",
       "      <td>NaN</td>\n",
       "      <td>S</td>\n",
       "      <td>1</td>\n",
       "    </tr>\n",
       "  </tbody>\n",
       "</table>\n",
       "</div>"
      ],
      "text/plain": [
       "   PassengerId  Pclass     Sex   Age  SibSp  Parch     Fare Cabin Embarked  \\\n",
       "0          892       3    male  34.5      0      0   7.8292   NaN        Q   \n",
       "1          893       3  female  47.0      1      0   7.0000   NaN        S   \n",
       "2          894       2    male  62.0      0      0   9.6875   NaN        Q   \n",
       "3          895       3    male  27.0      0      0   8.6625   NaN        S   \n",
       "4          896       3  female  22.0      1      1  12.2875   NaN        S   \n",
       "\n",
       "   MrMrs  \n",
       "0      1  \n",
       "1      1  \n",
       "2      1  \n",
       "3      1  \n",
       "4      1  "
      ]
     },
     "execution_count": 1,
     "metadata": {},
     "output_type": "execute_result"
    }
   ],
   "source": [
    "import pandas as pd\n",
    "import numpy as np\n",
    "from sklearn.model_selection import train_test_split\n",
    "from sklearn.linear_model import LogisticRegression\n",
    "from sklearn.grid_search import GridSearchCV\n",
    "from sklearn.metrics import roc_auc_score\n",
    "from sklearn.metrics import accuracy_score\n",
    "from sklearn.decomposition import PCA\n",
    "import numpy as np\n",
    "import pandas as pd\n",
    "import matplotlib\n",
    "from matplotlib import pyplot as plt\n",
    "import xgboost as xgb\n",
    "import matplotlib.patches as mpatches\n",
    "matplotlib.style.use('ggplot')\n",
    "%matplotlib inline\n",
    "from sklearn.cross_validation import cross_val_score as cv\n",
    "data = pd.read_csv('train.csv')\n",
    "test_data = pd.read_csv('test.csv')\n",
    "data['MrMrs'] = data['Name'].apply(lambda x: int('Mr' in x))\n",
    "test_data['MrMrs'] = test_data['Name'].apply(lambda x: int('Mr' in x))\n",
    "data = data.drop(['Name','Ticket'],axis=1)\n",
    "test_data = test_data.drop(['Name','Ticket'],axis=1)\n",
    "\n",
    "data.head()\n",
    "test_data.head()"
   ]
  },
  {
   "cell_type": "code",
   "execution_count": 2,
   "metadata": {},
   "outputs": [],
   "source": [
    "from sklearn.feature_extraction import DictVectorizer as DV\n",
    "\n",
    "categorial_feat = ['Sex','Cabin','Embarked']\n",
    "num_feat =  list(set(data.columns.values.tolist())-set(categorial_feat+['Survived']))\n",
    "\n",
    "encoder_cat = DV(sparse = False)\n",
    "X_cat = encoder_cat.fit_transform(data[categorial_feat].applymap(str).T.to_dict().values())\n",
    "\n",
    "X_num_train, X_num_test, y_train, y_test = train_test_split(data[num_feat],data['Survived'],test_size = 0.3, random_state = 1, shuffle=True)\n",
    "X_cat_train,X_cat_test = train_test_split(X_cat, test_size = 0.3, random_state=1,shuffle=True)\n"
   ]
  },
  {
   "cell_type": "code",
   "execution_count": 3,
   "metadata": {},
   "outputs": [],
   "source": [
    "from sklearn.preprocessing import StandardScaler\n",
    "encoder = StandardScaler()\n",
    "\n",
    "X_train_real_scaled = encoder.fit_transform(X_num_train.fillna(0))\n",
    "X_test_real_scaled = encoder.fit_transform(X_num_test.fillna(0))\n",
    "\n",
    "X_train= np.hstack((X_train_real_scaled,X_cat_train))\n",
    "X_test = np.hstack((X_test_real_scaled,X_cat_test))"
   ]
  },
  {
   "cell_type": "markdown",
   "metadata": {},
   "source": [
    "### Случайный лес"
   ]
  },
  {
   "cell_type": "code",
   "execution_count": 4,
   "metadata": {},
   "outputs": [
    {
     "name": "stderr",
     "output_type": "stream",
     "text": [
      "/home/fotol/4year/lib/python3.5/site-packages/sklearn/ensemble/weight_boosting.py:29: DeprecationWarning: numpy.core.umath_tests is an internal NumPy module and should not be imported. It will be removed in a future NumPy release.\n",
      "  from numpy.core.umath_tests import inner1d\n"
     ]
    },
    {
     "data": {
      "text/plain": [
       "0.7723880597014925"
      ]
     },
     "execution_count": 4,
     "metadata": {},
     "output_type": "execute_result"
    }
   ],
   "source": [
    "from sklearn.ensemble import RandomForestClassifier\n",
    "param_grid = {'n_estimators':[10,50,100,150,200],\n",
    "              'max_depth':[3,5,7,10,15,20,50],\n",
    "              'min_samples_leaf':[1,3,5,7]}\n",
    "\n",
    "estimator = RandomForestClassifier()\n",
    "optimizer_rf = GridSearchCV(estimator, param_grid)\n",
    "optimizer_rf.fit(X_train,y_train)\n",
    "pred_rf = optimizer_rf.predict(X_test)\n",
    "accuracy_score(y_test,pred_rf)"
   ]
  },
  {
   "cell_type": "markdown",
   "metadata": {},
   "source": [
    "## k-Nearest-Neighbors"
   ]
  },
  {
   "cell_type": "code",
   "execution_count": 5,
   "metadata": {},
   "outputs": [
    {
     "data": {
      "text/plain": [
       "0.746268656716418"
      ]
     },
     "execution_count": 5,
     "metadata": {},
     "output_type": "execute_result"
    }
   ],
   "source": [
    "from sklearn.neighbors import KNeighborsClassifier\n",
    "\n",
    "param_grid = {'weights':['distance','uniform'],\n",
    "              'n_neighbors':[3,5,7,10,12,15],\n",
    "              'p':[1,2,3]}\n",
    "\n",
    "estimator = KNeighborsClassifier()\n",
    "optimizer_knn = GridSearchCV(estimator, param_grid)\n",
    "optimizer_knn.fit(X_train,y_train)\n",
    "\n",
    "\n",
    "pred_knn = optimizer_knn.predict(X_test)\n",
    "accuracy_score(y_test,pred_knn.round(0))"
   ]
  },
  {
   "cell_type": "markdown",
   "metadata": {},
   "source": [
    "## Логичестическая регрессия"
   ]
  },
  {
   "cell_type": "code",
   "execution_count": 6,
   "metadata": {},
   "outputs": [
    {
     "data": {
      "text/plain": [
       "0.7798507462686567"
      ]
     },
     "execution_count": 6,
     "metadata": {},
     "output_type": "execute_result"
    }
   ],
   "source": [
    "from sklearn.linear_model import LogisticRegression\n",
    "\n",
    "param_grid = {'penalty':['l1','l2'],\n",
    "             'C':[1,2,3]}\n",
    "\n",
    "estimator = LogisticRegression()\n",
    "optimizer_lr = GridSearchCV(estimator, param_grid)\n",
    "optimizer_lr.fit(X_train,y_train)\n",
    "\n",
    "pred_lr = optimizer_lr.predict(X_test)\n",
    "accuracy_score(y_test,pred_lr.round(0))"
   ]
  },
  {
   "cell_type": "markdown",
   "metadata": {},
   "source": [
    "## SVM"
   ]
  },
  {
   "cell_type": "code",
   "execution_count": 7,
   "metadata": {},
   "outputs": [
    {
     "data": {
      "text/plain": [
       "0.7574626865671642"
      ]
     },
     "execution_count": 7,
     "metadata": {},
     "output_type": "execute_result"
    }
   ],
   "source": [
    "from sklearn.svm import SVC\n",
    "param_grid = {'C':[1,2,3]}\n",
    "\n",
    "estimator = SVC()\n",
    "optimizer_svm = GridSearchCV(estimator, param_grid)\n",
    "optimizer_svm.fit(X_train,y_train)\n",
    "\n",
    "pred_svm = optimizer_svm.predict(X_test)\n",
    "accuracy_score(y_test,pred_svm.round(0))"
   ]
  },
  {
   "cell_type": "markdown",
   "metadata": {},
   "source": [
    "## XGBoost"
   ]
  },
  {
   "cell_type": "code",
   "execution_count": 8,
   "metadata": {},
   "outputs": [
    {
     "data": {
      "text/plain": [
       "0.7574626865671642"
      ]
     },
     "execution_count": 8,
     "metadata": {},
     "output_type": "execute_result"
    }
   ],
   "source": [
    "param = {'objective':'binary:logistic', 'n_estimators':20}\n",
    "model_xgb = xgb.XGBModel(**param)\n",
    "model_xgb.fit(X_train,y_train)\n",
    "pred_xgb = model_xgb.predict(X_test)\n",
    "accuracy_score(y_test,pred_svm.round(0))"
   ]
  },
  {
   "cell_type": "markdown",
   "metadata": {},
   "source": [
    "## Blending"
   ]
  },
  {
   "cell_type": "code",
   "execution_count": 9,
   "metadata": {},
   "outputs": [
    {
     "name": "stderr",
     "output_type": "stream",
     "text": [
      "/home/fotol/4year/lib/python3.5/site-packages/ipykernel_launcher.py:12: DataConversionWarning: A column-vector y was passed when a 1d array was expected. Please change the shape of y to (n_samples,), for example using ravel().\n",
      "  if sys.path[0] == '':\n"
     ]
    },
    {
     "data": {
      "text/plain": [
       "0.8395522388059702"
      ]
     },
     "execution_count": 9,
     "metadata": {},
     "output_type": "execute_result"
    }
   ],
   "source": [
    "temp = np.hstack((pred_svm.reshape(len(pred_svm),1),pred_lr.reshape(len(pred_svm),1)))\n",
    "temp = np.hstack((temp,pred_knn.reshape(len(pred_svm),1)))\n",
    "temp = np.hstack((temp,pred_rf.reshape(len(pred_svm),1)))\n",
    "temp = np.hstack((temp,pred_xgb.reshape(len(pred_svm),1)))\n",
    "temp = np.hstack((temp,y_test.values.reshape(len(pred_svm),1)))\n",
    "\n",
    "\n",
    "X_blend = temp[:,[0,1,2,3,4]]\n",
    "y_blend = temp[:,[5]]\n",
    "\n",
    "gen_model = RandomForestClassifier()\n",
    "gen_model.fit(X_blend,y_blend)\n",
    "pred = gen_model.predict(X_blend)\n",
    "to_round = np.vectorize(lambda x:round(x))\n",
    "pred = to_round(pred)\n",
    "accuracy_score(pred,y_blend)\n",
    "\n"
   ]
  },
  {
   "cell_type": "markdown",
   "metadata": {},
   "source": [
    "### Сформировать файл ответа"
   ]
  },
  {
   "cell_type": "code",
   "execution_count": 10,
   "metadata": {},
   "outputs": [],
   "source": [
    "def form_file(model,filename):\n",
    "\n",
    "    X_cat = encoder_cat.transform(test_data[categorial_feat].applymap(str).T.to_dict().values())\n",
    "    encoder = StandardScaler()\n",
    "\n",
    "    X_train_real_scaled = encoder.fit_transform(test_data[num_feat].fillna(0))\n",
    "    X = np.hstack((X_train_real_scaled,X_cat))\n",
    "\n",
    "    pred_knn_gen = optimizer_knn.predict(X)\n",
    "    pred_svm_gen = optimizer_svm.predict(X)\n",
    "    pred_lr_gen = optimizer_lr.predict(X)\n",
    "    pred_rf_gen = optimizer_rf.predict(X)\n",
    "    pred_xgb_gen = model_xgb.predict(X)\n",
    "\n",
    "    temp = np.hstack((pred_svm_gen.reshape(len(pred_knn_gen),1),pred_lr_gen.reshape(len(pred_lr_gen),1)))\n",
    "    temp = np.hstack((temp,pred_knn_gen.reshape(len(pred_rf_gen),1)))\n",
    "    temp = np.hstack((temp,pred_rf_gen.reshape(len(pred_rf_gen),1)))\n",
    "    temp = np.hstack((temp,pred_xgb_gen.reshape(len(pred_rf_gen),1)))\n",
    "\n",
    "    pred = gen_model.predict(temp)\n",
    "\n",
    "    with open(\"blend.csv\", \"w\") as fout:\n",
    "        fout.write('PassengerId,Survived\\n')\n",
    "        for i in range(892,1310):\n",
    "            fout.write('{},{}\\n'.format(i, pred[i-892].round()))\n",
    "    return pred\n",
    "pred =form_file(optimizer_knn,'knn')"
   ]
  },
  {
   "cell_type": "code",
   "execution_count": 11,
   "metadata": {},
   "outputs": [],
   "source": [
    "knn = np.array(pd.read_csv('knn.csv'))\n",
    "lr = np.array(pd.read_csv('lr.csv'))\n",
    "rf = np.array(pd.read_csv('rf.csv'))\n",
    "# Усредняем предсказание д\n",
    "\n",
    "with open('average.csv','w') as fout:\n",
    "    fout.write('PassengerId,Survived\\n')\n",
    "    for i in range(892,1310):\n",
    "        temp = float(lr[i-892][1])/3+float(rf[i-892][1])/3\n",
    "        temp += float(knn[i-892][1])/3\n",
    "        fout.write('{},{}\\n'.format(i, round(temp-0.2)))\n",
    "\n"
   ]
  },
  {
   "cell_type": "code",
   "execution_count": 265,
   "metadata": {},
   "outputs": [
    {
     "data": {
      "text/plain": [
       "0.8516746411483254"
      ]
     },
     "execution_count": 265,
     "metadata": {},
     "output_type": "execute_result"
    }
   ],
   "source": [
    "data = pd.read_csv('rf.csv')['Survived']\n",
    "test_data = pd.read_csv('blend.csv')['Survived']\n",
    "accuracy_score(data.values,test_data.values)"
   ]
  },
  {
   "cell_type": "code",
   "execution_count": 114,
   "metadata": {},
   "outputs": [
    {
     "data": {
      "image/png": "[encoded data removed]",
      "text/plain": [
       "<Figure size 432x288 with 1 Axes>"
      ]
     },
     "metadata": {
      "needs_background": "light"
     },
     "output_type": "display_data"
    }
   ],
   "source": [
    "def plot_scores(d_scores):\n",
    "    n_components = np.arange(1,np.array(d_scores).size+1)\n",
    "    plt.plot(n_components, d_scores, 'b', label='PCA scores')\n",
    "    plt.xlim(n_components[0], n_components[-1])\n",
    "    plt.xlabel('n components')\n",
    "    plt.ylabel('cv scores')\n",
    "    plt.legend(loc='lower right')\n",
    "    plt.show()\n",
    "\n",
    "d = []\n",
    "for i in range(1,20):\n",
    "    model = PCA(n_components=i)\n",
    "    d.append(cv(model,X_train).mean())\n",
    "plot_scores(d)"
   ]
  }
 ],
 "metadata": {
  "kernelspec": {
   "display_name": "Python 3",
   "language": "python",
   "name": "python3"
  },
  "language_info": {
   "codemirror_mode": {
    "name": "ipython",
    "version": 3
   },
   "file_extension": ".py",
   "mimetype": "text/x-python",
   "name": "python",
   "nbconvert_exporter": "python",
   "pygments_lexer": "ipython3",
   "version": "3.5.2"
  }
 },
 "nbformat": 4,
 "nbformat_minor": 2
}
